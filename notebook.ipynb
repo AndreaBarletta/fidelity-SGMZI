{
 "cells": [
  {
   "cell_type": "markdown",
   "id": "2d18860d",
   "metadata": {},
   "source": [
    "# Comparing the fidelity of different decompositions methods\n",
    "- **Authors:** Andrea Barletta, Yanlong Wang\n",
    "- **Abstract:** In our project we will compare the fidelity of three different architectures for universal multiport interferometers, used to perform any unitary or linear transformation. In particular we will focus on comparing the traditional Reck and Clements architectures with a Universal Generalized Mach–Zehnder Interferometer (UGMZI) architecture inired by the work of P. Dita "
   ]
  },
  {
   "cell_type": "markdown",
   "id": "026cf8af",
   "metadata": {},
   "source": [
    "## Global stuff"
   ]
  },
  {
   "cell_type": "markdown",
   "id": "125b23d1",
   "metadata": {},
   "source": [
    "### Imports"
   ]
  },
  {
   "cell_type": "code",
   "execution_count": 38,
   "id": "748a67da",
   "metadata": {
    "ExecuteTime": {
     "end_time": "2021-12-04T01:33:13.676708Z",
     "start_time": "2021-12-04T01:33:13.219431Z"
    }
   },
   "outputs": [],
   "source": [
    "import numpy as np\n",
    "from scipy.linalg import cossin\n",
    "from scipy.stats import unitary_group\n",
    "from matplotlib import pyplot as plt"
   ]
  },
  {
   "cell_type": "markdown",
   "id": "8bed45c6",
   "metadata": {},
   "source": [
    "### Matrix representation of MZI"
   ]
  },
  {
   "cell_type": "code",
   "execution_count": 39,
   "id": "de814545",
   "metadata": {},
   "outputs": [],
   "source": [
    "def U2MZI(dim, m, n, phi, theta, LN=1):\n",
    "    mat = np.eye(dim, dtype=np.complex128)\n",
    "    mat[m, m] = sqrt(LN) * 1j * np.exp(1j * phi) * np.sin(theta)\n",
    "    mat[m, n] = 1j * np.cos(theta)\n",
    "    mat[n, m] = 1j * np.exp(1j * phi) * np.cos(theta)\n",
    "    mat[n, n] = -sqrt(LN) * 1j * np.sin(theta)\n",
    "    return mat"
   ]
  },
  {
   "cell_type": "markdown",
   "id": "6318a988",
   "metadata": {},
   "source": [
    "### Helper functions"
   ]
  },
  {
   "cell_type": "code",
   "execution_count": 40,
   "id": "4bdd6747",
   "metadata": {},
   "outputs": [],
   "source": [
    "def angle_diff(comp_src, comp_dst, offset=0):\n",
    "    return np.mod(np.angle(comp_dst) - np.angle(comp_src) + offset, 2*np.pi)"
   ]
  },
  {
   "cell_type": "markdown",
   "id": "5c1ab02e",
   "metadata": {},
   "source": [
    "## Reck's Method\n",
    "**References**\n",
    "\n",
    "Reck, Michael, et al. \"Experimental realization of any discrete unitary operator.\" Physical review letters 73.1 (1994): 58.    "
   ]
  },
  {
   "cell_type": "markdown",
   "id": "cc23f489",
   "metadata": {},
   "source": [
    "Given a Unitary NxN matrix, we will decompose it to obtain the following circuit topology \n",
    "\n",
    "<p align=\"center\">\n",
    "    <img src=\"reck.png\" width=\"50%\"/>\n",
    "</p>"
   ]
  },
  {
   "cell_type": "markdown",
   "id": "a714b0c8",
   "metadata": {},
   "source": [
    "<p align=\"center\">\n",
    "  <img src=\"\" />\n",
    "</p>"
   ]
  },
  {
   "cell_type": "code",
   "execution_count": 41,
   "id": "fb70a366",
   "metadata": {},
   "outputs": [],
   "source": [
    "def decompose_reck(u):\n",
    "    mat = u.copy().astype(np.complex128)\n",
    "    dim = mat.shape[0]\n",
    "    num = int(dim * (dim - 1) / 2)\n",
    "    phis = np.zeros(num)\n",
    "    thetas = np.zeros(num)\n",
    "    alphas = np.zeros(dim)\n",
    "    index = 0\n",
    "    for p in range(1, dim):\n",
    "        x = dim - p\n",
    "        for q in range(dim-p, 0, -1):\n",
    "            y = q - 1\n",
    "            thetas[index] = np.pi/2 - \\\n",
    "                np.arctan2(np.abs(mat[x, y]), np.abs(mat[x, x]))\n",
    "            phis[index] = angle_diff(mat[x, x], mat[x, y], offset=np.pi)\n",
    "            mat = mat @ U2MZI(dim, y, x, phis[index], thetas[index]).conj().T\n",
    "            index += 1\n",
    "    for i in range(dim):\n",
    "        alphas[i] = np.angle(mat[i, i])\n",
    "    return phis, thetas, alphas"
   ]
  },
  {
   "cell_type": "code",
   "execution_count": 42,
   "id": "4c96e3d1",
   "metadata": {},
   "outputs": [],
   "source": [
    "def reconstruct_reck(phis, thetas, alphas, LN_dB=0):\n",
    "    num = thetas.squeeze().shape[0]\n",
    "    dim = int((1 + np.sqrt(1 + 8 * num)) / 2)\n",
    "\n",
    "    LN = 10 ** (LN_dB / 10)\n",
    "\n",
    "    mat = np.diag(np.exp(1j * alphas))\n",
    "    index = num\n",
    "    for p in range(1, dim):\n",
    "        for q in range(p):\n",
    "            index -= 1\n",
    "            mat = mat @ U2MZI(dim, q, p,\n",
    "                              phis[index], thetas[index], LN=LN)\n",
    "    return mat"
   ]
  },
  {
   "cell_type": "markdown",
   "id": "a9294694",
   "metadata": {},
   "source": [
    "## Clements' Method\n",
    "**References**\n",
    "\n",
    "Clements, William R., et al. \"Optimal design for universal multiport interferometers.\" Optica 3.12 (2016): 1460-1465.\n"
   ]
  },
  {
   "cell_type": "markdown",
   "id": "2714c169",
   "metadata": {},
   "source": [
    "Given a Unitary NxN matrix, we will decompose it to obtain the following circuit topology \n",
    "\n",
    "<p align=\"center\">\n",
    "    <img src=\"clements.png\" width=\"50%\"/>\n",
    "</p>"
   ]
  },
  {
   "cell_type": "code",
   "execution_count": 43,
   "id": "9d58bb74",
   "metadata": {},
   "outputs": [],
   "source": [
    "def decompose_clements(u):\n",
    "    mat = u.copy().astype(np.complex128)\n",
    "    dim = mat.shape[0]\n",
    "\n",
    "    row = dim - 1\n",
    "    col = int(np.ceil(dim / 2))\n",
    "\n",
    "    cnt_fore = np.zeros(row, dtype=int)\n",
    "    cnt_back = np.ones(row, dtype=int) * (col - 1)\n",
    "    if dim % 2 == 1:\n",
    "        cnt_back[1::2] = col - 2\n",
    "\n",
    "    phis = np.zeros((row, col))\n",
    "    thetas = np.zeros((row, col))\n",
    "    alphas = np.zeros(dim)\n",
    "\n",
    "    for p in range(dim-1):\n",
    "        for q in range(p+1):\n",
    "            if p % 2 == 0:\n",
    "                x = dim - 1 - q\n",
    "                y = p - q\n",
    "                theta = np.pi/2 - \\\n",
    "                    np.arctan2(np.abs(mat[x, y]), np.abs(mat[x, y+1]))\n",
    "                phi = angle_diff(mat[x, y+1], mat[x, y], offset=np.pi)\n",
    "                mat = mat @ U2MZI(dim, y, y+1, phi, theta).conj().T\n",
    "                thetas[y, cnt_fore[y]] = theta\n",
    "                phis[y, cnt_fore[y]] = phi\n",
    "                cnt_fore[y] += 1\n",
    "            else:\n",
    "                x = dim - 1 - p + q\n",
    "                y = q\n",
    "                theta = np.pi/2 - \\\n",
    "                    np.arctan2(np.abs(mat[x, y]), np.abs(mat[x-1, y]))\n",
    "                phi = angle_diff(mat[x-1, y], mat[x, y], offset=0)\n",
    "                mat = U2MZI(dim, x-1, x, phi, theta) @ mat\n",
    "                thetas[x-1, cnt_back[x-1]] = theta\n",
    "                phis[x-1, cnt_back[x-1]] = phi\n",
    "                cnt_back[x-1] -= 1\n",
    "    for p in range(dim-2, -1, -1):\n",
    "        for q in range(p, -1, -1):\n",
    "            if p % 2 == 0:\n",
    "                continue\n",
    "            x = dim - 1 - p + q\n",
    "            y = q\n",
    "            cnt_back[x-1] += 1\n",
    "            theta = thetas[x-1, cnt_back[x-1]]\n",
    "            phi = phis[x-1, cnt_back[x-1]]\n",
    "            eta1 = mat[x-1, x-1]\n",
    "            eta2 = mat[x, x]\n",
    "            phi_new = angle_diff(eta2, eta1, offset=0)\n",
    "            mat[x-1, x-1] = -eta1 * np.exp(-1j * (phi+phi_new))\n",
    "            mat[x, x] = -eta2\n",
    "            phis[x-1, cnt_back[x-1]] = phi_new\n",
    "    for i in range(dim):\n",
    "        alphas[i] = np.angle(mat[i, i])\n",
    "    return phis, thetas, alphas"
   ]
  },
  {
   "cell_type": "code",
   "execution_count": null,
   "id": "0b042577",
   "metadata": {},
   "outputs": [],
   "source": [
    "def reconstruct_clements(phis, thetas, alphas, LN_dB=0):\n",
    "    if thetas.size == 1:\n",
    "        row = 1\n",
    "        col = 1\n",
    "    else:\n",
    "        row, col = thetas.squeeze().shape\n",
    "    dim = row + 1\n",
    "    num = int(dim * (dim - 1) / 2)\n",
    "    assert alphas.squeeze().shape[0] == dim\n",
    "\n",
    "    LN = 10 ** (LN_dB / 10)\n",
    "\n",
    "    sft = np.diag(np.exp(1j * alphas))\n",
    "    mat = np.eye(dim)\n",
    "    for p in range(col):\n",
    "        for q in range(0, row, 2):\n",
    "            mat = U2MZI(dim, q, q+1, phis[q, p],\n",
    "                        thetas[q, p], LN=LN) @ mat\n",
    "        if p >= col - 1 and dim % 2 == 1:\n",
    "            continue\n",
    "        for q in range(1, row, 2):\n",
    "            mat = U2MZI(dim, q, q+1, phis[q, p],\n",
    "                        thetas[q, p], LN=LN) @ mat\n",
    "    mat = sft @ mat\n",
    "    return mat"
   ]
  },
  {
   "cell_type": "markdown",
   "id": "c407820c",
   "metadata": {
    "ExecuteTime": {
     "end_time": "2021-12-03T11:56:37.480875Z",
     "start_time": "2021-12-03T11:56:37.476138Z"
    }
   },
   "source": [
    "## Fidelity Comparison"
   ]
  },
  {
   "cell_type": "code",
   "execution_count": null,
   "id": "1fac1d19",
   "metadata": {
    "ExecuteTime": {
     "end_time": "2021-12-04T06:36:05.012119Z",
     "start_time": "2021-12-04T06:33:57.041004Z"
    }
   },
   "outputs": [
    {
     "ename": "NameError",
     "evalue": "name 'sqrt' is not defined",
     "output_type": "error",
     "traceback": [
      "\u001b[31m---------------------------------------------------------------------------\u001b[39m",
      "\u001b[31mNameError\u001b[39m                                 Traceback (most recent call last)",
      "\u001b[36mCell\u001b[39m\u001b[36m \u001b[39m\u001b[32mIn[45]\u001b[39m\u001b[32m, line 23\u001b[39m\n\u001b[32m     21\u001b[39m mat = np.random.randn(i, i)\n\u001b[32m     22\u001b[39m [u, s, v] = np.linalg.svd(mat, full_matrices=\u001b[38;5;28;01mTrue\u001b[39;00m)\n\u001b[32m---> \u001b[39m\u001b[32m23\u001b[39m [p, t, a] = \u001b[43mdecompose_reck\u001b[49m\u001b[43m(\u001b[49m\u001b[43mu\u001b[49m\u001b[43m)\u001b[49m\n\u001b[32m     24\u001b[39m Ue = reconstruct_reck(p, t, a, Lp_dB=Lp_dB, Lc_dB=Lc_dB)\n\u001b[32m     25\u001b[39m statistic += np.abs(np.trace(u.conj().T @ Ue) /\n\u001b[32m     26\u001b[39m                     np.sqrt(i * np.trace(Ue.conj().T @ Ue))) ** \u001b[32m2\u001b[39m\n",
      "\u001b[36mCell\u001b[39m\u001b[36m \u001b[39m\u001b[32mIn[41]\u001b[39m\u001b[32m, line 16\u001b[39m, in \u001b[36mdecompose_reck\u001b[39m\u001b[34m(u)\u001b[39m\n\u001b[32m     13\u001b[39m         thetas[index] = np.pi/\u001b[32m2\u001b[39m - \\\n\u001b[32m     14\u001b[39m             np.arctan2(np.abs(mat[x, y]), np.abs(mat[x, x]))\n\u001b[32m     15\u001b[39m         phis[index] = angle_diff(mat[x, x], mat[x, y], offset=np.pi)\n\u001b[32m---> \u001b[39m\u001b[32m16\u001b[39m         mat = mat @ \u001b[43mU2MZI\u001b[49m\u001b[43m(\u001b[49m\u001b[43mdim\u001b[49m\u001b[43m,\u001b[49m\u001b[43m \u001b[49m\u001b[43my\u001b[49m\u001b[43m,\u001b[49m\u001b[43m \u001b[49m\u001b[43mx\u001b[49m\u001b[43m,\u001b[49m\u001b[43m \u001b[49m\u001b[43mphis\u001b[49m\u001b[43m[\u001b[49m\u001b[43mindex\u001b[49m\u001b[43m]\u001b[49m\u001b[43m,\u001b[49m\u001b[43m \u001b[49m\u001b[43mthetas\u001b[49m\u001b[43m[\u001b[49m\u001b[43mindex\u001b[49m\u001b[43m]\u001b[49m\u001b[43m)\u001b[49m.conj().T\n\u001b[32m     17\u001b[39m         index += \u001b[32m1\u001b[39m\n\u001b[32m     18\u001b[39m \u001b[38;5;28;01mfor\u001b[39;00m i \u001b[38;5;129;01min\u001b[39;00m \u001b[38;5;28mrange\u001b[39m(dim):\n",
      "\u001b[36mCell\u001b[39m\u001b[36m \u001b[39m\u001b[32mIn[39]\u001b[39m\u001b[32m, line 3\u001b[39m, in \u001b[36mU2MZI\u001b[39m\u001b[34m(dim, m, n, phi, theta, LN)\u001b[39m\n\u001b[32m      1\u001b[39m \u001b[38;5;28;01mdef\u001b[39;00m\u001b[38;5;250m \u001b[39m\u001b[34mU2MZI\u001b[39m(dim, m, n, phi, theta, LN=\u001b[32m1\u001b[39m):\n\u001b[32m      2\u001b[39m     mat = np.eye(dim, dtype=np.complex128)\n\u001b[32m----> \u001b[39m\u001b[32m3\u001b[39m     mat[m, m] = \u001b[43msqrt\u001b[49m(LN) * \u001b[32m1\u001b[39mj * np.exp(\u001b[32m1\u001b[39mj * phi) * np.sin(theta)\n\u001b[32m      4\u001b[39m     mat[m, n] = \u001b[32m1\u001b[39mj * np.cos(theta)\n\u001b[32m      5\u001b[39m     mat[n, m] = \u001b[32m1\u001b[39mj * np.exp(\u001b[32m1\u001b[39mj * phi) * np.cos(theta)\n",
      "\u001b[31mNameError\u001b[39m: name 'sqrt' is not defined"
     ]
    },
    {
     "data": {
      "text/plain": [
       "<Figure size 1920x1440 with 0 Axes>"
      ]
     },
     "metadata": {},
     "output_type": "display_data"
    }
   ],
   "source": [
    "# System Configurations and Parameters\n",
    "NUM_MODE = 31\n",
    "LN_dB=-1.5\n",
    "COUNT = 100\n",
    "\n",
    "# Buffers to store the data for drawings\n",
    "fidelity = np.zeros((NUM_MODE, 1))\n",
    "\n",
    "# Setup for Matplotlib\n",
    "plt.rcParams[\"font.family\"] = \"Times New Roman\"\n",
    "plt.rcParams[\"font.weight\"] = \"normal\"\n",
    "plt.rcParams[\"font.size\"] = 12\n",
    "plt.figure(dpi=300)\n",
    "x = range(3, NUM_MODE)\n",
    "\n",
    "# Sweep Parameters [Reck]\n",
    "for i in range(3, NUM_MODE):\n",
    "    statistic = 0.0\n",
    "    for _ in range(COUNT):\n",
    "        mat = np.random.randn(i, i)\n",
    "        [u, s, v] = np.linalg.svd(mat, full_matrices=True)\n",
    "        [p, t, a] = decompose_reck(u)\n",
    "        Ue = reconstruct_reck(p, t, a, LN_dB=LN_dB)\n",
    "        statistic += np.abs(np.trace(u.conj().T @ Ue) /\n",
    "                            np.sqrt(i * np.trace(Ue.conj().T @ Ue))) ** 2\n",
    "    fidelity[i] = statistic / COUNT\n",
    "\n",
    "# Annotate Setup\n",
    "y_reck = fidelity[3:NUM_MODE].copy()\n",
    "plt.plot(x, y_reck, 's', markersize=2)\n",
    "\n",
    "# Sweep Parameters [Clements]\n",
    "for i in range(3, NUM_MODE):\n",
    "    statistic = 0.0\n",
    "    for _ in range(COUNT):\n",
    "        mat = np.random.randn(i, i)\n",
    "        [u, s, v] = np.linalg.svd(mat, full_matrices=True)\n",
    "        [p, t, a] = decompose_clements(u)\n",
    "        Ue = reconstruct_clements(p, t, a, LN_dB=LN_dB)\n",
    "        statistic += np.abs(np.trace(u.conj().T @ Ue) /\n",
    "                            np.sqrt(i * np.trace(Ue.conj().T @ Ue))) ** 2\n",
    "    fidelity[i] = statistic / COUNT\n",
    "\n",
    "# Annotate Setup\n",
    "y_clements = fidelity[3:NUM_MODE].copy()\n",
    "plt.plot(x, y_clements, '^', markersize=2)\n",
    "\n",
    "# Decorate Figures\n",
    "plt.xlabel('Number of modes', fontsize=14)\n",
    "plt.ylabel('Fidelity', fontsize=14)\n",
    "plt.legend(['Reck', 'Clements', 'Our'])\n",
    "\n",
    "plt.show()"
   ]
  }
 ],
 "metadata": {
  "kernelspec": {
   "display_name": "Python 3",
   "language": "python",
   "name": "python3"
  },
  "language_info": {
   "codemirror_mode": {
    "name": "ipython",
    "version": 3
   },
   "file_extension": ".py",
   "mimetype": "text/x-python",
   "name": "python",
   "nbconvert_exporter": "python",
   "pygments_lexer": "ipython3",
   "version": "3.13.2"
  },
  "toc": {
   "base_numbering": 1,
   "nav_menu": {},
   "number_sections": true,
   "sideBar": true,
   "skip_h1_title": false,
   "title_cell": "Table of Contents",
   "title_sidebar": "Contents",
   "toc_cell": false,
   "toc_position": {},
   "toc_section_display": true,
   "toc_window_display": false
  },
  "varInspector": {
   "cols": {
    "lenName": 16,
    "lenType": 16,
    "lenVar": 40
   },
   "kernels_config": {
    "python": {
     "delete_cmd_postfix": "",
     "delete_cmd_prefix": "del ",
     "library": "var_list.py",
     "varRefreshCmd": "print(var_dic_list())"
    },
    "r": {
     "delete_cmd_postfix": ") ",
     "delete_cmd_prefix": "rm(",
     "library": "var_list.r",
     "varRefreshCmd": "cat(var_dic_list()) "
    }
   },
   "types_to_exclude": [
    "module",
    "function",
    "builtin_function_or_method",
    "instance",
    "_Feature"
   ],
   "window_display": false
  }
 },
 "nbformat": 4,
 "nbformat_minor": 5
}
